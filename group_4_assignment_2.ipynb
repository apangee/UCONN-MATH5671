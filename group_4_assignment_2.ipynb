{
 "cells": [
  {
   "cell_type": "markdown",
   "metadata": {},
   "source": [
    "### First Question\n"
   ]
  },
  {
   "cell_type": "code",
   "execution_count": 2,
   "metadata": {},
   "outputs": [
    {
     "ename": "SyntaxError",
     "evalue": "invalid syntax (<ipython-input-2-c0a48c949cfb>, line 59)",
     "output_type": "error",
     "traceback": [
      "\u001b[0;36m  File \u001b[0;32m\"<ipython-input-2-c0a48c949cfb>\"\u001b[0;36m, line \u001b[0;32m59\u001b[0m\n\u001b[0;31m    print(\"Learned Q-Table\")\u001b[0m\n\u001b[0m        ^\u001b[0m\n\u001b[0;31mSyntaxError\u001b[0m\u001b[0;31m:\u001b[0m invalid syntax\n"
     ]
    }
   ],
   "source": [
    "import tensorflow as tf\n",
    "import gym\n",
    "import numpy as np\n",
    "import random\n",
    "import math\n",
    "env = gym.make('FrozenLake-v0')\n",
    "\n",
    "# Initialize Q table with all zeros\n",
    "Q = tf.zeros([env.observation_space.n,env.action_space.n])\n",
    "\n",
    "# Set learning parameters\n",
    "gamma = tf.constant(.8,name = 'scalar')\n",
    "alpha = tf.constant(.1,name = 'scalar')\n",
    "episodes = tf.constant(10000,name = 'scalar')\n",
    "total = tf.constant(0,name = 'scalar')\n",
    "i = tf.constant(1,name = 'scalar')\n",
    "\n",
    "epsilon = tf.constant(1/(1+i))\n",
    "state = tf.Variable(env.reset())\n",
    "random = tf.Variable(random.uniform(0,1))\n",
    "done = tf.placeholder(tf.bool)\n",
    "\n",
    "init = tf.global_variables_initializer()\n",
    " \n",
    "# loop over episodes\n",
    "def cond1(i, episodes): return tf.less(i, episodes)\n",
    "pred = tf.equal(done, tf.constant(True))   \n",
    "\n",
    "    # Start Q-Table learning\n",
    "\n",
    "    \n",
    "    # for the true condidtion\n",
    "def f1():\n",
    "    action = tf.constant(env.action_space.sample())  \n",
    "    tf.cond(epsilon < random.uniform(0,1),action )\n",
    "    \n",
    "    return action\n",
    "\n",
    "   # for the False condidtion\n",
    "\n",
    "def f2():\n",
    "    action = tf.constant(np.argmax(Q[state]))   \n",
    "    return action     \n",
    "\n",
    "\n",
    "    # Body for the while loop\n",
    "def body1(i, episodes): \n",
    "    state = tf.Variable(env.reset())\n",
    "    done = tf.placeholder(tf.bool)\n",
    "    epsilon = tf.constant(1/(1+i))\n",
    "    new_state, reward, done, info = env.step(action)\n",
    "\n",
    "\n",
    "    # Update Q-Table\n",
    "    # Q[state,action] = (1-alpha)*Q[state,action] + alpha*(reward + gamma * np.max(Q[new_state]))\n",
    "    Q[state,action] += alpha * (reward + gamma * np.max(Q[new_state]) - Q[state,action])          \n",
    "    state = tf.constant(new_state)\n",
    "    total = tf.add(reward, 1)\n",
    "    return [tf.add(i, 1), episodes]\n",
    "\n",
    "checkdone = tf.cond(pred , lambda:f1(), lambda:f2())   # condition to check done equals to False or not.\n",
    "firstloop = tf.while_loop(cond1, body1, [i, episodes])\n",
    "result = total / episodes \n",
    "\n",
    "with tf.Session() as sess:\n",
    "    print(\"Average rewards: \" + str(sess.run(result)) \n",
    "    print(\"Learned Q-Table\")\n",
    "    print(Q)\n"
   ]
  },
  {
   "cell_type": "markdown",
   "metadata": {},
   "source": [
    "### Second Question\n"
   ]
  },
  {
   "cell_type": "code",
   "execution_count": 14,
   "metadata": {},
   "outputs": [
    {
     "name": "stdout",
     "output_type": "stream",
     "text": [
      "*****************\n",
      "Episodes 9\n",
      "*****************\n",
      "  (Left)\n",
      "SFFF\n",
      "FHFH\n",
      "FFFH\n",
      "\u001b[41mH\u001b[0mFFG\n",
      "*****************\n",
      "Steps 30\n",
      "*****************\n"
     ]
    }
   ],
   "source": [
    "from IPython.display import clear_output\n",
    "import time\n",
    "\n",
    "\n",
    "# initialization\n",
    "s = env.reset()\n",
    "episodes = tf.constant(10,name = 'scalar')\n",
    "max_steps = tf.constant(1000,name = 'scalar')\n",
    "\n",
    "# body2 and cond2 are part of loop to loop over episodes. \n",
    "def cond2(i, episodes): return tf.less(i, episodes)\n",
    " \n",
    "def body2(i, episodes): \n",
    "    state = tf.Variable(env.reset())\n",
    "    random = tf.Variable(random.uniform(0,1))\n",
    "    done = tf.placeholder(tf.bool)\n",
    "    cl  = clear_output()\n",
    "    print(\"*****************\")\n",
    "    print(\"Episodes\", str(sess.run(epidosde))\n",
    "    print(\"*****************\")\n",
    "    return [tf.add(i, 1), episodes]\n",
    "          \n",
    "# body3 and cond3 are conditions to loop over max_steps         \n",
    "def cond3(i, max_steps):  \n",
    "    return tf.less(i, max_steps)   \n",
    "          \n",
    "def body3(i, max_steps): \n",
    "    \n",
    "    action = tf.constant(np.argmax(Q[state]))        \n",
    "    new_state, reward, done, info = env.step(action)\n",
    "       \n",
    "    return [tf.add(i, 1), max_steps]\n",
    "          \n",
    "          \n",
    "\n",
    "def prep2(): return tf.equal(done, tf.constant(True)) \n",
    "                         \n",
    "def body4(): \n",
    "    env.render()\n",
    "    print(\"*****************\")\n",
    "    print(\"Steps\", step)\n",
    "    print(\"*****************\")          \n",
    "    time.sleep(2)    \n",
    "          \n",
    "def continue_loop(): \n",
    "          return tf.while_loop(prep2, body4)\n",
    "          \n",
    "def exit_loop(): return i\n",
    "checkdone2 = tf.cond(prep2 , true_fn = continue_loop , false_fn = exit_loop )\n",
    "\n",
    "state = new_state             \n",
    "secondloop = tf.while_loop(cond2, body2, [i, episodes])        \n",
    "thirdloop = tf.while_loop(cond3, body3, [i, max_steps])\n",
    "env.close()"
   ]
  },
  {
   "cell_type": "code",
   "execution_count": null,
   "metadata": {},
   "outputs": [],
   "source": []
  }
 ],
 "metadata": {
  "kernelspec": {
   "display_name": "Python 3",
   "language": "python",
   "name": "python3"
  },
  "language_info": {
   "codemirror_mode": {
    "name": "ipython",
    "version": 3
   },
   "file_extension": ".py",
   "mimetype": "text/x-python",
   "name": "python",
   "nbconvert_exporter": "python",
   "pygments_lexer": "ipython3",
   "version": "3.6.9"
  }
 },
 "nbformat": 4,
 "nbformat_minor": 2
}
