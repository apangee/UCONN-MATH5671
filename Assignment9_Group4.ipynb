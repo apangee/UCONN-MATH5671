{
  "nbformat": 4,
  "nbformat_minor": 0,
  "metadata": {
    "colab": {
      "name": "Assignment9_Group4",
      "provenance": [],
      "collapsed_sections": [],
      "include_colab_link": true
    },
    "kernelspec": {
      "name": "python3",
      "display_name": "Python 3"
    }
  },
  "cells": [
    {
      "cell_type": "markdown",
      "metadata": {
        "id": "view-in-github",
        "colab_type": "text"
      },
      "source": [
        "<a href=\"https://colab.research.google.com/github/apangee/UCONN-MATH5671/blob/master/Assignment9_Group4.ipynb\" target=\"_parent\"><img src=\"https://colab.research.google.com/assets/colab-badge.svg\" alt=\"Open In Colab\"/></a>"
      ]
    },
    {
      "cell_type": "markdown",
      "metadata": {
        "id": "NqzHxppVQ-hV",
        "colab_type": "text"
      },
      "source": [
        "Drive mounting"
      ]
    },
    {
      "cell_type": "code",
      "metadata": {
        "id": "UMht7RcQLFy0",
        "colab_type": "code",
        "outputId": "52c0ad5c-e341-49b8-bd0b-0e22b4c2d539",
        "colab": {
          "base_uri": "https://localhost:8080/",
          "height": 118
        }
      },
      "source": [
        "from google.colab import drive\n",
        "drive.mount('/content/gdrive')"
      ],
      "execution_count": 1,
      "outputs": [
        {
          "output_type": "stream",
          "text": [
            "Go to this URL in a browser: https://accounts.google.com/o/oauth2/auth?client_id=947318989803-6bn6qk8qdgf4n4g3pfee6491hc0brc4i.apps.googleusercontent.com&redirect_uri=urn%3Aietf%3Awg%3Aoauth%3A2.0%3Aoob&scope=email%20https%3A%2F%2Fwww.googleapis.com%2Fauth%2Fdocs.test%20https%3A%2F%2Fwww.googleapis.com%2Fauth%2Fdrive%20https%3A%2F%2Fwww.googleapis.com%2Fauth%2Fdrive.photos.readonly%20https%3A%2F%2Fwww.googleapis.com%2Fauth%2Fpeopleapi.readonly&response_type=code\n",
            "\n",
            "Enter your authorization code:\n",
            "··········\n",
            "Mounted at /content/gdrive\n"
          ],
          "name": "stdout"
        }
      ]
    },
    {
      "cell_type": "markdown",
      "metadata": {
        "id": "lfQDBR0WRGGz",
        "colab_type": "text"
      },
      "source": [
        "Something is wrong with Spark 2.4.4 and Java 8. Should use lower version 2.2.3. Also only Java 8 works. "
      ]
    },
    {
      "cell_type": "code",
      "metadata": {
        "id": "kHwn4IpSNlyg",
        "colab_type": "code",
        "colab": {}
      },
      "source": [
        "!wget -q https://archive.apache.org/dist/spark/spark-2.2.3/spark-2.2.3-bin-hadoop2.7.tgz\n",
        "!tar xf spark-2.2.3-bin-hadoop2.7.tgz\n",
        "!pip install -q findspark"
      ],
      "execution_count": 0,
      "outputs": []
    },
    {
      "cell_type": "code",
      "metadata": {
        "id": "cUSvIhXDO613",
        "colab_type": "code",
        "outputId": "1d521ad6-ec53-497f-a4fa-e08ec4928c8d",
        "colab": {
          "base_uri": "https://localhost:8080/",
          "height": 32
        }
      },
      "source": [
        "!ls"
      ],
      "execution_count": 3,
      "outputs": [
        {
          "output_type": "stream",
          "text": [
            "gdrive\tsample_data  spark-2.2.3-bin-hadoop2.7\tspark-2.2.3-bin-hadoop2.7.tgz\n"
          ],
          "name": "stdout"
        }
      ]
    },
    {
      "cell_type": "markdown",
      "metadata": {
        "id": "IPSkxZu-RSWn",
        "colab_type": "text"
      },
      "source": [
        "Install Java 8 if Java 11 was installed. Spark is compatible with Java 8 now"
      ]
    },
    {
      "cell_type": "code",
      "metadata": {
        "id": "Gix1_VLcQc0f",
        "colab_type": "code",
        "outputId": "1204a8c8-9f15-473e-9c8e-f4509f5a033c",
        "colab": {
          "base_uri": "https://localhost:8080/",
          "height": 65
        }
      },
      "source": [
        "import os       #importing os to set environment variable\n",
        "def install_java():\n",
        "  !apt-get install -y openjdk-8-jdk-headless -qq > /dev/null      #install openjdk\n",
        "  os.environ[\"JAVA_HOME\"] = \"/usr/lib/jvm/java-8-openjdk-amd64\"     #set environment variable\n",
        "  !java -version       #check java version\n",
        "install_java()"
      ],
      "execution_count": 4,
      "outputs": [
        {
          "output_type": "stream",
          "text": [
            "openjdk version \"11.0.4\" 2019-07-16\n",
            "OpenJDK Runtime Environment (build 11.0.4+11-post-Ubuntu-1ubuntu218.04.3)\n",
            "OpenJDK 64-Bit Server VM (build 11.0.4+11-post-Ubuntu-1ubuntu218.04.3, mixed mode, sharing)\n"
          ],
          "name": "stdout"
        }
      ]
    },
    {
      "cell_type": "markdown",
      "metadata": {
        "id": "S2zSCDcLRlxI",
        "colab_type": "text"
      },
      "source": [
        "Switch to Java 8 if it is Java 11 now"
      ]
    },
    {
      "cell_type": "code",
      "metadata": {
        "id": "UeIEwLesQjuJ",
        "colab_type": "code",
        "outputId": "eddd7c0b-496c-4528-d03b-b76f10d4ded7",
        "colab": {
          "base_uri": "https://localhost:8080/",
          "height": 181
        }
      },
      "source": [
        "!update-alternatives --config java"
      ],
      "execution_count": 5,
      "outputs": [
        {
          "output_type": "stream",
          "text": [
            "There are 2 choices for the alternative java (providing /usr/bin/java).\n",
            "\n",
            "  Selection    Path                                            Priority   Status\n",
            "------------------------------------------------------------\n",
            "* 0            /usr/lib/jvm/java-11-openjdk-amd64/bin/java      1111      auto mode\n",
            "  1            /usr/lib/jvm/java-11-openjdk-amd64/bin/java      1111      manual mode\n",
            "  2            /usr/lib/jvm/java-8-openjdk-amd64/jre/bin/java   1081      manual mode\n",
            "\n",
            "Press <enter> to keep the current choice[*], or type selection number: 2\n",
            "update-alternatives: using /usr/lib/jvm/java-8-openjdk-amd64/jre/bin/java to provide /usr/bin/java (java) in manual mode\n"
          ],
          "name": "stdout"
        }
      ]
    },
    {
      "cell_type": "markdown",
      "metadata": {
        "id": "IDM2kLSbR18O",
        "colab_type": "text"
      },
      "source": [
        "Double check if it is Java 8 now"
      ]
    },
    {
      "cell_type": "code",
      "metadata": {
        "id": "M3uLhoZZQ0pU",
        "colab_type": "code",
        "outputId": "b2fb17c6-fec4-4966-898f-f26ea7395c01",
        "colab": {
          "base_uri": "https://localhost:8080/",
          "height": 65
        }
      },
      "source": [
        "!java -version "
      ],
      "execution_count": 6,
      "outputs": [
        {
          "output_type": "stream",
          "text": [
            "openjdk version \"1.8.0_222\"\n",
            "OpenJDK Runtime Environment (build 1.8.0_222-8u222-b10-1ubuntu1~18.04.1-b10)\n",
            "OpenJDK 64-Bit Server VM (build 25.222-b10, mixed mode)\n"
          ],
          "name": "stdout"
        }
      ]
    },
    {
      "cell_type": "markdown",
      "metadata": {
        "id": "KaxULuoMRtxd",
        "colab_type": "text"
      },
      "source": [
        "Set some environment variables"
      ]
    },
    {
      "cell_type": "code",
      "metadata": {
        "id": "uADy95nbQsCO",
        "colab_type": "code",
        "colab": {}
      },
      "source": [
        "import os\n",
        "os.environ[\"JAVA_HOME\"] = \"/usr/lib/jvm/java-8-openjdk-amd64\"\n",
        "os.environ[\"SPARK_HOME\"] = \"/content/spark-2.2.3-bin-hadoop2.7\""
      ],
      "execution_count": 0,
      "outputs": []
    },
    {
      "cell_type": "code",
      "metadata": {
        "id": "GHzvVnvrUVu9",
        "colab_type": "code",
        "colab": {}
      },
      "source": [
        "import findspark\n",
        "findspark.init()"
      ],
      "execution_count": 0,
      "outputs": []
    },
    {
      "cell_type": "code",
      "metadata": {
        "id": "RArYnhRxUmZF",
        "colab_type": "code",
        "colab": {}
      },
      "source": [
        "from pyspark.conf import SparkConf\n",
        "from pyspark.context import SparkContext\n",
        "from pyspark.sql import SparkSession\n",
        "conf = SparkConf().setAppName(\"MLlib\")\n",
        "sc = SparkContext(conf=conf)\n",
        "sc.setLogLevel(\"WARN\")\n",
        "spark = SparkSession(sc)"
      ],
      "execution_count": 0,
      "outputs": []
    },
    {
      "cell_type": "markdown",
      "metadata": {
        "id": "B7s18DRZ6eyB",
        "colab_type": "text"
      },
      "source": [
        "Reading Data"
      ]
    },
    {
      "cell_type": "markdown",
      "metadata": {
        "id": "aZNrG0_DTGwJ",
        "colab_type": "text"
      },
      "source": [
        ""
      ]
    },
    {
      "cell_type": "code",
      "metadata": {
        "id": "WrCtqiIEP_4s",
        "colab_type": "code",
        "outputId": "6d5b0070-41ce-4c50-d42a-81240cca58d8",
        "colab": {
          "base_uri": "https://localhost:8080/",
          "height": 164
        }
      },
      "source": [
        "payment_df = spark.read.format(\"csv\").option(\"header\", \"true\").load(r'/content/gdrive/My Drive/Uconn Each Semester/2019 Fall/Math 5671/Week9/data/payment.csv')\n",
        "payment_df = payment_df.alias('payment_df')\n",
        "payment_df.show(3)"
      ],
      "execution_count": 10,
      "outputs": [
        {
          "output_type": "stream",
          "text": [
            "+----------+-----------+--------+---------+------+-------------------+-------------------+\n",
            "|payment_id|customer_id|staff_id|rental_id|amount|       payment_date|        last_update|\n",
            "+----------+-----------+--------+---------+------+-------------------+-------------------+\n",
            "|         1|          1|       1|       76|  2.99|2005-05-25 11:30:37|2006-02-15 22:12:30|\n",
            "|         2|          1|       1|      573|  0.99|2005-05-28 10:35:23|2006-02-15 22:12:30|\n",
            "|         3|          1|       1|     1185|  5.99|2005-06-15 00:54:12|2006-02-15 22:12:30|\n",
            "+----------+-----------+--------+---------+------+-------------------+-------------------+\n",
            "only showing top 3 rows\n",
            "\n"
          ],
          "name": "stdout"
        }
      ]
    },
    {
      "cell_type": "code",
      "metadata": {
        "id": "40sDxcNg6rO5",
        "colab_type": "code",
        "outputId": "0eafa45e-c4f1-47d9-fc23-9cefe023eb0e",
        "colab": {
          "base_uri": "https://localhost:8080/",
          "height": 164
        }
      },
      "source": [
        "rental_df = spark.read.format(\"csv\").option(\"header\", \"true\").load(r'/content/gdrive/My Drive/Uconn Each Semester/2019 Fall/Math 5671/Week9/data/rental.csv')\n",
        "rental_df = rental_df.alias('rental_df')\n",
        "rental_df.show(3)"
      ],
      "execution_count": 11,
      "outputs": [
        {
          "output_type": "stream",
          "text": [
            "+---------+-------------------+------------+-----------+-------------------+--------+-------------------+\n",
            "|rental_id|        rental_date|inventory_id|customer_id|        return_date|staff_id|        last_update|\n",
            "+---------+-------------------+------------+-----------+-------------------+--------+-------------------+\n",
            "|        1|2005-05-24 22:53:30|         367|        130|2005-05-26 22:04:30|       1|2006-02-15 21:30:53|\n",
            "|        2|2005-05-24 22:54:33|        1525|        459|2005-05-28 19:40:33|       1|2006-02-15 21:30:53|\n",
            "|        3|2005-05-24 23:03:39|        1711|        408|2005-06-01 22:12:39|       1|2006-02-15 21:30:53|\n",
            "+---------+-------------------+------------+-----------+-------------------+--------+-------------------+\n",
            "only showing top 3 rows\n",
            "\n"
          ],
          "name": "stdout"
        }
      ]
    },
    {
      "cell_type": "code",
      "metadata": {
        "id": "WuQmbXPu7pR8",
        "colab_type": "code",
        "outputId": "ebb2de57-1951-487b-d9f3-ed746322147d",
        "colab": {
          "base_uri": "https://localhost:8080/",
          "height": 131
        }
      },
      "source": [
        "staff_df = spark.read.format(\"csv\").option(\"header\", \"true\").load(r'/content/gdrive/My Drive/Uconn Each Semester/2019 Fall/Math 5671/Week9/data/staff.csv')\n",
        "staff_df = staff_df.alias('staff_df')\n",
        "staff_df.show(3)"
      ],
      "execution_count": 12,
      "outputs": [
        {
          "output_type": "stream",
          "text": [
            "+--------+----------+---------+----------+-------+--------------------+--------+------+--------+--------------------+--------------+\n",
            "|staff_id|first_name|last_name|address_id|picture|               email|store_id|active|username|            password|   last_update|\n",
            "+--------+----------+---------+----------+-------+--------------------+--------+------+--------+--------------------+--------------+\n",
            "|       1|      Mike|  Hillyer|         3|   NULL|Mike.Hillyer@saki...|       1|     1|    Mike|8cb2237d0679ca88d...|2/15/2006 3:57|\n",
            "|       2|       Jon| Stephens|         4|   NULL|Jon.Stephens@saki...|       2|     1|     Jon|                NULL|2/15/2006 3:57|\n",
            "+--------+----------+---------+----------+-------+--------------------+--------+------+--------+--------------------+--------------+\n",
            "\n"
          ],
          "name": "stdout"
        }
      ]
    },
    {
      "cell_type": "code",
      "metadata": {
        "id": "4mgXSeTa8IfF",
        "colab_type": "code",
        "outputId": "c02f38bb-1371-4c5e-cfcd-845061c4aa05",
        "colab": {
          "base_uri": "https://localhost:8080/",
          "height": 164
        }
      },
      "source": [
        "inventory_df = spark.read.format(\"csv\").option(\"header\", \"true\").load(r'/content/gdrive/My Drive/Uconn Each Semester/2019 Fall/Math 5671/Week9/data/inventory.csv')\n",
        "inventory_df = inventory_df.alias('inventory_df')\n",
        "inventory_df.show(3)"
      ],
      "execution_count": 13,
      "outputs": [
        {
          "output_type": "stream",
          "text": [
            "+------------+-------+--------+-------------------+\n",
            "|inventory_id|film_id|store_id|        last_update|\n",
            "+------------+-------+--------+-------------------+\n",
            "|           1|      1|       1|2006-02-15 05:09:17|\n",
            "|           2|      1|       1|2006-02-15 05:09:17|\n",
            "|           3|      1|       1|2006-02-15 05:09:17|\n",
            "+------------+-------+--------+-------------------+\n",
            "only showing top 3 rows\n",
            "\n"
          ],
          "name": "stdout"
        }
      ]
    },
    {
      "cell_type": "code",
      "metadata": {
        "id": "BvicDwctBjB5",
        "colab_type": "code",
        "outputId": "bd39ea4d-a569-4f91-c1e1-f4294e79ecc7",
        "colab": {
          "base_uri": "https://localhost:8080/",
          "height": 131
        }
      },
      "source": [
        "store_df = spark.read.format(\"csv\").option(\"header\", \"true\").load(r'/content/gdrive/My Drive/Uconn Each Semester/2019 Fall/Math 5671/Week9/data/store.csv')\n",
        "store_df = store_df.alias('store_df')\n",
        "store_df.show(3)"
      ],
      "execution_count": 14,
      "outputs": [
        {
          "output_type": "stream",
          "text": [
            "+--------+----------------+----------+-------------------+\n",
            "|store_id|manager_staff_id|address_id|        last_update|\n",
            "+--------+----------------+----------+-------------------+\n",
            "|       1|               1|         1|2006-02-15 04:57:12|\n",
            "|       2|               2|         2|2006-02-15 04:57:12|\n",
            "+--------+----------------+----------+-------------------+\n",
            "\n"
          ],
          "name": "stdout"
        }
      ]
    },
    {
      "cell_type": "code",
      "metadata": {
        "id": "8SQxoGM7Btw-",
        "colab_type": "code",
        "outputId": "4ea38467-24d7-4839-e45d-04e6bcdf43fe",
        "colab": {
          "base_uri": "https://localhost:8080/",
          "height": 164
        }
      },
      "source": [
        "address_df = spark.read.format(\"csv\").option(\"header\", \"true\").load(r'/content/gdrive/My Drive/Uconn Each Semester/2019 Fall/Math 5671/Week9/data/address.csv')\n",
        "address_df = address_df.alias('address_df')\n",
        "address_df.show(3)"
      ],
      "execution_count": 15,
      "outputs": [
        {
          "output_type": "stream",
          "text": [
            "+----------+------------------+--------+--------+-------+-----------+-----------+-------------------+\n",
            "|address_id|           address|address2|district|city_id|postal_code|      phone|        last_update|\n",
            "+----------+------------------+--------+--------+-------+-----------+-----------+-------------------+\n",
            "|         1| 47 MySakila Drive|    NULL| Alberta|    300|       null|       null|2014-09-25 22:30:27|\n",
            "|         2|28 MySQL Boulevard|    NULL|     QLD|    576|       null|       null|2014-09-25 22:30:09|\n",
            "|         3| 23 Workhaven Lane|    NULL| Alberta|    300|       null|14033335568|2014-09-25 22:30:27|\n",
            "+----------+------------------+--------+--------+-------+-----------+-----------+-------------------+\n",
            "only showing top 3 rows\n",
            "\n"
          ],
          "name": "stdout"
        }
      ]
    },
    {
      "cell_type": "code",
      "metadata": {
        "id": "U86kGHy6B1U4",
        "colab_type": "code",
        "outputId": "d2f92a04-631a-4ce5-d6f7-f39ba93cda63",
        "colab": {
          "base_uri": "https://localhost:8080/",
          "height": 164
        }
      },
      "source": [
        "customer_df = spark.read.format(\"csv\").option(\"header\", \"true\").load(r'/content/gdrive/My Drive/Uconn Each Semester/2019 Fall/Math 5671/Week9/data/customer.csv')\n",
        "customer_df = customer_df.alias('customer_df')\n",
        "customer_df.show(3)"
      ],
      "execution_count": 16,
      "outputs": [
        {
          "output_type": "stream",
          "text": [
            "+-----------+--------+----------+---------+--------------------+----------+------+-------------------+-------------------+\n",
            "|customer_id|store_id|first_name|last_name|               email|address_id|active|        create_date|        last_update|\n",
            "+-----------+--------+----------+---------+--------------------+----------+------+-------------------+-------------------+\n",
            "|          1|       1|      MARY|    SMITH|MARY.SMITH@sakila...|         5|     1|2006-02-14 22:04:36|2006-02-15 04:57:20|\n",
            "|          2|       1|  PATRICIA|  JOHNSON|PATRICIA.JOHNSON@...|         6|     1|2006-02-14 22:04:36|2006-02-15 04:57:20|\n",
            "|          3|       1|     LINDA| WILLIAMS|LINDA.WILLIAMS@sa...|         7|     1|2006-02-14 22:04:36|2006-02-15 04:57:20|\n",
            "+-----------+--------+----------+---------+--------------------+----------+------+-------------------+-------------------+\n",
            "only showing top 3 rows\n",
            "\n"
          ],
          "name": "stdout"
        }
      ]
    },
    {
      "cell_type": "code",
      "metadata": {
        "id": "NbHp9HVsCAWH",
        "colab_type": "code",
        "outputId": "5a742908-205f-4bee-e512-6ca0c28d5679",
        "colab": {
          "base_uri": "https://localhost:8080/",
          "height": 184
        }
      },
      "source": [
        "film_df = spark.read.format(\"csv\").option(\"header\", \"true\").load(r'/content/gdrive/My Drive/Uconn Each Semester/2019 Fall/Math 5671/Week9/data/film.csv')\n",
        "film_df = film_df.alias('film_df')\n",
        "film_df.show(3)"
      ],
      "execution_count": 17,
      "outputs": [
        {
          "output_type": "stream",
          "text": [
            "+-------+----------------+--------------------+------------+-----------+--------------------+---------------+-----------+------+----------------+------+--------------------+-------------------+\n",
            "|film_id|           title|         description|release_year|language_id|original_language_id|rental_duration|rental_rate|length|replacement_cost|rating|    special_features|        last_update|\n",
            "+-------+----------------+--------------------+------------+-----------+--------------------+---------------+-----------+------+----------------+------+--------------------+-------------------+\n",
            "|      1|ACADEMY DINOSAUR|A Epic Drama of a...|        2006|          1|                NULL|              6|       0.99|    86|           20.99|    PG|Deleted Scenes,Be...|2006-02-15 05:03:42|\n",
            "|      2|  ACE GOLDFINGER|A Astounding Epis...|        2006|          1|                NULL|              3|       4.99|    48|           12.99|     G|Trailers,Deleted ...|2006-02-15 05:03:42|\n",
            "|      3|ADAPTATION HOLES|A Astounding Refl...|        2006|          1|                NULL|              7|       2.99|    50|           18.99| NC-17|Trailers,Deleted ...|2006-02-15 05:03:42|\n",
            "+-------+----------------+--------------------+------------+-----------+--------------------+---------------+-----------+------+----------------+------+--------------------+-------------------+\n",
            "only showing top 3 rows\n",
            "\n"
          ],
          "name": "stdout"
        }
      ]
    },
    {
      "cell_type": "code",
      "metadata": {
        "id": "djlp1aJWnCx6",
        "colab_type": "code",
        "colab": {}
      },
      "source": [
        "# spark.stop()"
      ],
      "execution_count": 0,
      "outputs": []
    },
    {
      "cell_type": "markdown",
      "metadata": {
        "id": "6DKbagrPsMZh",
        "colab_type": "text"
      },
      "source": [
        "# Question 1: \n"
      ]
    },
    {
      "cell_type": "code",
      "metadata": {
        "id": "6uv_80dWT0DQ",
        "colab_type": "code",
        "outputId": "8bdc7b80-1a97-4b6d-ec92-43496dc08936",
        "colab": {
          "base_uri": "https://localhost:8080/",
          "height": 164
        }
      },
      "source": [
        "payment_df.groupBy('customer_id').agg({'amount':'sum'}).show(3)"
      ],
      "execution_count": 70,
      "outputs": [
        {
          "output_type": "stream",
          "text": [
            "+-----------+------------------+\n",
            "|customer_id|       sum(amount)|\n",
            "+-----------+------------------+\n",
            "|        296|129.69999999999993|\n",
            "|        467|139.70999999999998|\n",
            "|        125|135.67999999999998|\n",
            "+-----------+------------------+\n",
            "only showing top 3 rows\n",
            "\n"
          ],
          "name": "stdout"
        }
      ]
    },
    {
      "cell_type": "markdown",
      "metadata": {
        "id": "sW2ip6PesPAj",
        "colab_type": "text"
      },
      "source": [
        "# Question 2: \n",
        "\n",
        "\n"
      ]
    },
    {
      "cell_type": "code",
      "metadata": {
        "id": "eX1mbUmDtchV",
        "colab_type": "code",
        "outputId": "25cf2586-b2f7-41ca-806a-350356dc6826",
        "colab": {
          "base_uri": "https://localhost:8080/",
          "height": 164
        }
      },
      "source": [
        "from pyspark.sql import functions as f\n",
        "\n",
        "rental_df.filter(f.col(\"return_date\") < f.unix_timestamp(f.lit('2015-01-01 00:00:00')).cast('timestamp')).orderBy('return_date', ascending=True).show(3)"
      ],
      "execution_count": 71,
      "outputs": [
        {
          "output_type": "stream",
          "text": [
            "+---------+-------------------+------------+-----------+-------------------+--------+-------------------+\n",
            "|rental_id|        rental_date|inventory_id|customer_id|        return_date|staff_id|        last_update|\n",
            "+---------+-------------------+------------+-----------+-------------------+--------+-------------------+\n",
            "|       32|2005-05-25 04:06:21|        3832|        230|2005-05-25 23:55:21|       1|2006-02-15 21:30:53|\n",
            "|       21|2005-05-25 01:59:46|         146|        388|2005-05-26 01:01:46|       2|2006-02-15 21:30:53|\n",
            "|       14|2005-05-25 00:31:15|        2701|        446|2005-05-26 02:56:15|       1|2006-02-15 21:30:53|\n",
            "+---------+-------------------+------------+-----------+-------------------+--------+-------------------+\n",
            "only showing top 3 rows\n",
            "\n"
          ],
          "name": "stdout"
        }
      ]
    },
    {
      "cell_type": "markdown",
      "metadata": {
        "id": "-akwE2q_x7qh",
        "colab_type": "text"
      },
      "source": [
        "# Question 3\n",
        "\n"
      ]
    },
    {
      "cell_type": "code",
      "metadata": {
        "id": "L_wPl2anx_hf",
        "colab_type": "code",
        "outputId": "41461155-4f0e-4ac1-f67e-cc8531431cd9",
        "colab": {
          "base_uri": "https://localhost:8080/",
          "height": 131
        }
      },
      "source": [
        "rental_df.groupBy('staff_id').agg({'rental_id':'count'}).show()"
      ],
      "execution_count": 72,
      "outputs": [
        {
          "output_type": "stream",
          "text": [
            "+--------+----------------+\n",
            "|staff_id|count(rental_id)|\n",
            "+--------+----------------+\n",
            "|       1|            8040|\n",
            "|       2|            8004|\n",
            "+--------+----------------+\n",
            "\n"
          ],
          "name": "stdout"
        }
      ]
    },
    {
      "cell_type": "markdown",
      "metadata": {
        "id": "IP7SqN71ys2k",
        "colab_type": "text"
      },
      "source": [
        "# Question 4"
      ]
    },
    {
      "cell_type": "code",
      "metadata": {
        "id": "1iRIg4GQyvTp",
        "colab_type": "code",
        "outputId": "f096133e-7e0d-49b2-d3c1-85cb98cb0378",
        "colab": {
          "base_uri": "https://localhost:8080/",
          "height": 362
        }
      },
      "source": [
        "from pyspark.sql.functions import concat, col, lit\n",
        "\n",
        "# creat new dataframe \n",
        "  \n",
        "new = staff_df.select(concat(staff_df['staff_id']).alias('staff_id'), concat(staff_df['first_name']).alias('first_name'), concat(staff_df['last_name']).alias('last_name'))\n",
        "new.show()\n",
        "\n",
        "\n",
        "\n",
        "# dataframe in question 3\n",
        "new2 = rental_df.groupBy('staff_id').agg({'rental_id':'count'})\n",
        "new2.show()\n",
        "\n",
        "# answer:  join two dataframe according to staff_id\n",
        "new.join(new2,\"staff_id\").show()\n",
        "\n",
        "\n"
      ],
      "execution_count": 73,
      "outputs": [
        {
          "output_type": "stream",
          "text": [
            "+--------+----------+---------+\n",
            "|staff_id|first_name|last_name|\n",
            "+--------+----------+---------+\n",
            "|       1|      Mike|  Hillyer|\n",
            "|       2|       Jon| Stephens|\n",
            "+--------+----------+---------+\n",
            "\n",
            "+--------+----------------+\n",
            "|staff_id|count(rental_id)|\n",
            "+--------+----------------+\n",
            "|       1|            8040|\n",
            "|       2|            8004|\n",
            "+--------+----------------+\n",
            "\n",
            "+--------+----------+---------+----------------+\n",
            "|staff_id|first_name|last_name|count(rental_id)|\n",
            "+--------+----------+---------+----------------+\n",
            "|       1|      Mike|  Hillyer|            8040|\n",
            "|       2|       Jon| Stephens|            8004|\n",
            "+--------+----------+---------+----------------+\n",
            "\n"
          ],
          "name": "stdout"
        }
      ]
    },
    {
      "cell_type": "markdown",
      "metadata": {
        "id": "ehv4rX9G7DhL",
        "colab_type": "text"
      },
      "source": [
        "# Question 5"
      ]
    },
    {
      "cell_type": "code",
      "metadata": {
        "id": "yArEr5MnhdTC",
        "colab_type": "code",
        "colab": {
          "base_uri": "https://localhost:8080/",
          "height": 184
        },
        "outputId": "b07c7e88-0861-4a06-f0a7-26dd697dd375"
      },
      "source": [
        "#1. use the rental_df as base to join inventory_df using \"inventory_id\"\n",
        "q5df1 = rental_df.join(inventory_df,\"inventory_id\") \n",
        "\n",
        "#2. join with store_df using \"store_id\"\n",
        "q5df2 = q5df1.join(store_df,\"store_id\") \n",
        " \n",
        "#3. join with address_df using \"address_id\"\n",
        "q5df3 = q5df2.join(address_df,\"address_id\") \n",
        "\n",
        "#4. join with customer first and last name \n",
        "q5df4 = q5df3.join(new,\"staff_id\") \n",
        "\n",
        "#5. join with film data to get film name and description using \"film_df\"\n",
        "q5df5 = q5df4.join(film_df,\"film_id\")\n",
        "\n",
        "#6. order by return_date in ascending order \n",
        "q5final = q5df5.orderBy('return_date', ascending=True)\n",
        "q5final.show(3)"
      ],
      "execution_count": 91,
      "outputs": [
        {
          "output_type": "stream",
          "text": [
            "+-------+--------+----------+--------+------------+---------+-------------------+-----------+-------------------+-------------------+-------------------+----------------+-------------------+------------------+--------+--------+-------+-----------+-----+-------------------+----------+---------+------------------+--------------------+------------+-----------+--------------------+---------------+-----------+------+----------------+------+--------------------+-------------------+\n",
            "|film_id|staff_id|address_id|store_id|inventory_id|rental_id|        rental_date|customer_id|        return_date|        last_update|        last_update|manager_staff_id|        last_update|           address|address2|district|city_id|postal_code|phone|        last_update|first_name|last_name|             title|         description|release_year|language_id|original_language_id|rental_duration|rental_rate|length|replacement_cost|rating|    special_features|        last_update|\n",
            "+-------+--------+----------+--------+------------+---------+-------------------+-----------+-------------------+-------------------+-------------------+----------------+-------------------+------------------+--------+--------+-------+-----------+-----+-------------------+----------+---------+------------------+--------------------+------------+-----------+--------------------+---------------+-----------+------+----------------+------+--------------------+-------------------+\n",
            "|    839|       1|         2|       2|        3832|       32|2005-05-25 04:06:21|        230|2005-05-25 23:55:21|2006-02-15 21:30:53|2006-02-15 05:09:17|               2|2006-02-15 04:57:12|28 MySQL Boulevard|    NULL|     QLD|    576|       null| null|2014-09-25 22:30:09|      Mike|  Hillyer| STALLION SUNDANCE|A Fast-Paced Tale...|        2006|          1|                NULL|              5|       0.99|   130|           23.99| PG-13|Deleted Scenes,Be...|2006-02-15 05:03:42|\n",
            "|     31|       2|         1|       1|         146|       21|2005-05-25 01:59:46|        388|2005-05-26 01:01:46|2006-02-15 21:30:53|2006-02-15 05:09:17|               1|2006-02-15 04:57:12| 47 MySakila Drive|    NULL| Alberta|    300|       null| null|2014-09-25 22:30:27|       Jon| Stephens|     APACHE DIVINE|A Awe-Inspiring R...|        2006|          1|                NULL|              5|       4.99|    92|           16.99| NC-17|Commentaries,Dele...|2006-02-15 05:03:42|\n",
            "|    593|       1|         2|       2|        2701|       14|2005-05-25 00:31:15|        446|2005-05-26 02:56:15|2006-02-15 21:30:53|2006-02-15 05:09:17|               2|2006-02-15 04:57:12|28 MySQL Boulevard|    NULL|     QLD|    576|       null| null|2014-09-25 22:30:09|      Mike|  Hillyer|MONTEREY LABYRINTH|A Awe-Inspiring D...|        2006|          1|                NULL|              6|       0.99|   158|           13.99|     G|Trailers,Commenta...|2006-02-15 05:03:42|\n",
            "+-------+--------+----------+--------+------------+---------+-------------------+-----------+-------------------+-------------------+-------------------+----------------+-------------------+------------------+--------+--------+-------+-----------+-----+-------------------+----------+---------+------------------+--------------------+------------+-----------+--------------------+---------------+-----------+------+----------------+------+--------------------+-------------------+\n",
            "only showing top 3 rows\n",
            "\n"
          ],
          "name": "stdout"
        }
      ]
    },
    {
      "cell_type": "markdown",
      "metadata": {
        "id": "0v5RnkmUuR6k",
        "colab_type": "text"
      },
      "source": [
        "# Question *6*"
      ]
    },
    {
      "cell_type": "code",
      "metadata": {
        "id": "UllR2UJgy_sR",
        "colab_type": "code",
        "colab": {
          "base_uri": "https://localhost:8080/",
          "height": 131
        },
        "outputId": "89dc89f2-e5c6-47ca-cb2d-020c1c816d64"
      },
      "source": [
        "# using the payment data\n",
        " \n",
        "q6d1 = payment_df.groupBy('customer_id').agg({'amount':'sum'}) \n",
        "q6d1.filter(f.col(\"sum(amount)\") > 200).show()\n"
      ],
      "execution_count": 108,
      "outputs": [
        {
          "output_type": "stream",
          "text": [
            "+-----------+-----------------+\n",
            "|customer_id|      sum(amount)|\n",
            "+-----------+-----------------+\n",
            "|        526|221.5500000000001|\n",
            "|        148|216.5400000000001|\n",
            "+-----------+-----------------+\n",
            "\n"
          ],
          "name": "stdout"
        }
      ]
    },
    {
      "cell_type": "markdown",
      "metadata": {
        "id": "petL758Z63UE",
        "colab_type": "text"
      },
      "source": [
        "# Question 7"
      ]
    },
    {
      "cell_type": "code",
      "metadata": {
        "id": "gpq5z1lwzgpi",
        "colab_type": "code",
        "colab": {
          "base_uri": "https://localhost:8080/",
          "height": 247
        },
        "outputId": "080a6b41-1cbd-4fdf-ca0a-e17f290c7830"
      },
      "source": [
        "# From the customer dataframe get three related columns\n",
        "q7d1 = customer_df.select(concat(customer_df['customer_id']).alias('customer_id'), concat(customer_df['first_name']).alias('first_name'), concat(customer_df['last_name']).alias('last_name'))\n",
        " \n",
        "# join the results with q6d1\n",
        "q7d2 = q7d1.join(q6d1,\"customer_id\") \n",
        "q7d3 = q7d2.filter(f.col(\"sum(amount)\") > 200) \n",
        "q7d3.show()\n",
        "# get rid of first colmn and get final answer\n",
        "q7d4 = q7d3.drop(\"customer_id\")\n",
        "q7d4.show()\n",
        "\n",
        "\n"
      ],
      "execution_count": 123,
      "outputs": [
        {
          "output_type": "stream",
          "text": [
            "+-----------+----------+---------+-----------------+\n",
            "|customer_id|first_name|last_name|      sum(amount)|\n",
            "+-----------+----------+---------+-----------------+\n",
            "|        148|   ELEANOR|     HUNT|216.5400000000001|\n",
            "|        526|      KARL|     SEAL|221.5500000000001|\n",
            "+-----------+----------+---------+-----------------+\n",
            "\n",
            "+----------+---------+-----------------+\n",
            "|first_name|last_name|      sum(amount)|\n",
            "+----------+---------+-----------------+\n",
            "|   ELEANOR|     HUNT|216.5400000000001|\n",
            "|      KARL|     SEAL|221.5500000000001|\n",
            "+----------+---------+-----------------+\n",
            "\n"
          ],
          "name": "stdout"
        }
      ]
    },
    {
      "cell_type": "code",
      "metadata": {
        "id": "gwzDovHAHXay",
        "colab_type": "code",
        "colab": {}
      },
      "source": [
        ""
      ],
      "execution_count": 0,
      "outputs": []
    },
    {
      "cell_type": "markdown",
      "metadata": {
        "id": "TYqZE25F9oIT",
        "colab_type": "text"
      },
      "source": [
        "# Question 8\n"
      ]
    },
    {
      "cell_type": "code",
      "metadata": {
        "id": "bk7D9sgb4lP0",
        "colab_type": "code",
        "colab": {
          "base_uri": "https://localhost:8080/",
          "height": 823
        },
        "outputId": "d116722e-315f-4e15-e4d5-ca34f97b64fb"
      },
      "source": [
        "# Create dataset that contains a list of customer_id that rented in 2005\n",
        "q8_1= rental_df.filter(f.col(\"rental_date\") < f.unix_timestamp(f.lit('2006-01-01 00:00:00')).cast('timestamp')).orderBy('return_date', ascending=True) \n",
        "q8_2005= q8_1.filter(f.col(\"return_date\") > f.unix_timestamp(f.lit('2005-01-01 00:00:00')).cast('timestamp')).orderBy('return_date', ascending=True)\n",
        " \n",
        "q8_2005.show(3)\n",
        "\n",
        "# Create dataset that contains a list of customer_id that rented in 2006\n",
        "q8_3= rental_df.filter(f.col(\"rental_date\") < f.unix_timestamp(f.lit('2007-01-01 00:00:00')).cast('timestamp')).orderBy('return_date', ascending=True) \n",
        "q8_2006= q8_3.filter(f.col(\"return_date\") > f.unix_timestamp(f.lit('2006-01-01 00:00:00')).cast('timestamp')).orderBy('return_date', ascending=True)\n",
        "q8_2006.show(3)\n",
        " \n",
        "# (a): create a DataFrame of customer_id that exist in the 2005 DataFrame but not in the 2006 DataFrame\n",
        "# merge using the payment_id from payment_df\n",
        "q8_2005_first = q8_2005.join(payment_df,\"customer_id\") \n",
        "question8_a= q8_2005_first.filter(f.col(\"return_date\") < f.unix_timestamp(f.lit('2006-01-01 00:00:00')).cast('timestamp')).orderBy('return_date', ascending=True) \n",
        "question8_a2= question8_a.filter(f.col(\"return_date\") > f.unix_timestamp(f.lit('2005-01-01 00:00:00')).cast('timestamp')).orderBy('return_date', ascending=True)\n",
        "question8_a2.show()\n",
        "\n",
        " \n",
        " \n",
        "# (a): create a DataFrame of customer_id that exist in the 2005 DataFrame but not in the 2006 DataFrame\n",
        "# merge using the payment_id from payment_df\n",
        "q8_2006_first = q8_2006.join(payment_df,\"customer_id\") \n",
        "question8_b= q8_2006_first.filter(f.col(\"return_date\") < f.unix_timestamp(f.lit('2007-01-01 00:00:00')).cast('timestamp')).orderBy('return_date', ascending=True) \n",
        "question8_b2= question8_b.filter(f.col(\"return_date\") > f.unix_timestamp(f.lit('2006-01-01 00:00:00')).cast('timestamp')).orderBy('return_date', ascending=True)\n",
        "question8_b2.show()\n"
      ],
      "execution_count": 155,
      "outputs": [
        {
          "output_type": "stream",
          "text": [
            "+---------+-------------------+------------+-----------+-------------------+--------+-------------------+\n",
            "|rental_id|        rental_date|inventory_id|customer_id|        return_date|staff_id|        last_update|\n",
            "+---------+-------------------+------------+-----------+-------------------+--------+-------------------+\n",
            "|       32|2005-05-25 04:06:21|        3832|        230|2005-05-25 23:55:21|       1|2006-02-15 21:30:53|\n",
            "|       21|2005-05-25 01:59:46|         146|        388|2005-05-26 01:01:46|       2|2006-02-15 21:30:53|\n",
            "|       14|2005-05-25 00:31:15|        2701|        446|2005-05-26 02:56:15|       1|2006-02-15 21:30:53|\n",
            "+---------+-------------------+------------+-----------+-------------------+--------+-------------------+\n",
            "only showing top 3 rows\n",
            "\n",
            "+---------+-------------------+------------+-----------+-----------+--------+-------------------+\n",
            "|rental_id|        rental_date|inventory_id|customer_id|return_date|staff_id|        last_update|\n",
            "+---------+-------------------+------------+-----------+-----------+--------+-------------------+\n",
            "|    11496|2006-02-14 15:16:03|        2047|        155|       NULL|       1|2006-02-15 21:30:53|\n",
            "|    11541|2006-02-14 15:16:03|        2026|        335|       NULL|       1|2006-02-15 21:30:53|\n",
            "|    11563|2006-02-14 15:16:03|        1545|         83|       NULL|       1|2006-02-15 21:30:53|\n",
            "+---------+-------------------+------------+-----------+-----------+--------+-------------------+\n",
            "only showing top 3 rows\n",
            "\n",
            "+-----------+---------+-------------------+------------+-------------------+--------+-------------------+----------+--------+---------+------+-------------------+-------------------+\n",
            "|customer_id|rental_id|        rental_date|inventory_id|        return_date|staff_id|        last_update|payment_id|staff_id|rental_id|amount|       payment_date|        last_update|\n",
            "+-----------+---------+-------------------+------------+-------------------+--------+-------------------+----------+--------+---------+------+-------------------+-------------------+\n",
            "|        230|       32|2005-05-25 04:06:21|        3832|2005-05-25 23:55:21|       1|2006-02-15 21:30:53|      6218|       1|    14340|  2.99|2005-08-21 08:38:21|2006-02-15 22:14:31|\n",
            "|        230|       32|2005-05-25 04:06:21|        3832|2005-05-25 23:55:21|       1|2006-02-15 21:30:53|      6217|       1|    14073|  5.99|2005-08-20 23:12:57|2006-02-15 22:14:31|\n",
            "|        230|       32|2005-05-25 04:06:21|        3832|2005-05-25 23:55:21|       1|2006-02-15 21:30:53|      6216|       2|    14017|  0.99|2005-08-20 20:55:32|2006-02-15 22:14:31|\n",
            "|        230|       32|2005-05-25 04:06:21|        3832|2005-05-25 23:55:21|       1|2006-02-15 21:30:53|      6215|       2|    12542|  0.99|2005-08-18 14:21:11|2006-02-15 22:14:31|\n",
            "|        230|       32|2005-05-25 04:06:21|        3832|2005-05-25 23:55:21|       1|2006-02-15 21:30:53|      6214|       2|    12523|  7.99|2005-08-18 13:45:41|2006-02-15 22:14:30|\n",
            "|        230|       32|2005-05-25 04:06:21|        3832|2005-05-25 23:55:21|       1|2006-02-15 21:30:53|      6213|       1|    12079|  1.99|2005-08-17 22:04:17|2006-02-15 22:14:30|\n",
            "|        230|       32|2005-05-25 04:06:21|        3832|2005-05-25 23:55:21|       1|2006-02-15 21:30:53|      6212|       2|    11914|  2.99|2005-08-17 16:04:42|2006-02-15 22:14:30|\n",
            "|        230|       32|2005-05-25 04:06:21|        3832|2005-05-25 23:55:21|       1|2006-02-15 21:30:53|      6211|       1|    11552|  5.99|2005-08-17 01:04:29|2006-02-15 22:14:30|\n",
            "|        230|       32|2005-05-25 04:06:21|        3832|2005-05-25 23:55:21|       1|2006-02-15 21:30:53|      6210|       2|    11148|  5.99|2005-08-02 09:47:08|2006-02-15 22:14:30|\n",
            "|        230|       32|2005-05-25 04:06:21|        3832|2005-05-25 23:55:21|       1|2006-02-15 21:30:53|      6209|       2|    10874|  2.99|2005-08-02 00:31:00|2006-02-15 22:14:30|\n",
            "|        230|       32|2005-05-25 04:06:21|        3832|2005-05-25 23:55:21|       1|2006-02-15 21:30:53|      6208|       1|    10057|  9.99|2005-07-31 19:20:18|2006-02-15 22:14:30|\n",
            "|        230|       32|2005-05-25 04:06:21|        3832|2005-05-25 23:55:21|       1|2006-02-15 21:30:53|      6207|       2|    10050|  3.99|2005-07-31 19:13:29|2006-02-15 22:14:30|\n",
            "|        230|       32|2005-05-25 04:06:21|        3832|2005-05-25 23:55:21|       1|2006-02-15 21:30:53|      6206|       2|     9778|  3.99|2005-07-31 10:02:04|2006-02-15 22:14:30|\n",
            "|        230|       32|2005-05-25 04:06:21|        3832|2005-05-25 23:55:21|       1|2006-02-15 21:30:53|      6205|       1|     8815|  2.99|2005-07-29 21:51:26|2006-02-15 22:14:30|\n",
            "|        230|       32|2005-05-25 04:06:21|        3832|2005-05-25 23:55:21|       1|2006-02-15 21:30:53|      6204|       2|     8653|  0.99|2005-07-29 15:04:23|2006-02-15 22:14:30|\n",
            "|        230|       32|2005-05-25 04:06:21|        3832|2005-05-25 23:55:21|       1|2006-02-15 21:30:53|      6203|       2|     8032|  4.99|2005-07-28 16:17:00|2006-02-15 22:14:30|\n",
            "|        230|       32|2005-05-25 04:06:21|        3832|2005-05-25 23:55:21|       1|2006-02-15 21:30:53|      6202|       2|     7390|  4.99|2005-07-27 15:59:19|2006-02-15 22:14:30|\n",
            "|        230|       32|2005-05-25 04:06:21|        3832|2005-05-25 23:55:21|       1|2006-02-15 21:30:53|      6201|       2|     7333|  4.99|2005-07-27 13:59:11|2006-02-15 22:14:30|\n",
            "|        230|       32|2005-05-25 04:06:21|        3832|2005-05-25 23:55:21|       1|2006-02-15 21:30:53|      6200|       1|     6251|  2.99|2005-07-11 15:06:20|2006-02-15 22:14:30|\n",
            "|        230|       32|2005-05-25 04:06:21|        3832|2005-05-25 23:55:21|       1|2006-02-15 21:30:53|      6199|       2|     6126|  4.99|2005-07-11 08:06:56|2006-02-15 22:14:30|\n",
            "+-----------+---------+-------------------+------------+-------------------+--------+-------------------+----------+--------+---------+------+-------------------+-------------------+\n",
            "only showing top 20 rows\n",
            "\n",
            "+-----------+---------+-----------+------------+-----------+--------+-----------+----------+--------+---------+------+------------+-----------+\n",
            "|customer_id|rental_id|rental_date|inventory_id|return_date|staff_id|last_update|payment_id|staff_id|rental_id|amount|payment_date|last_update|\n",
            "+-----------+---------+-----------+------------+-----------+--------+-----------+----------+--------+---------+------+------------+-----------+\n",
            "+-----------+---------+-----------+------------+-----------+--------+-----------+----------+--------+---------+------+------------+-----------+\n",
            "\n"
          ],
          "name": "stdout"
        }
      ]
    },
    {
      "cell_type": "code",
      "metadata": {
        "id": "-yRlgcIy-FVY",
        "colab_type": "code",
        "colab": {}
      },
      "source": [
        " \n",
        " "
      ],
      "execution_count": 0,
      "outputs": []
    }
  ]
}